{
 "cells": [
  {
   "cell_type": "code",
   "execution_count": 339,
   "id": "2326d151",
   "metadata": {},
   "outputs": [],
   "source": [
    "import pandas as pd\n",
    "%matplotlib inline\n",
    "import matplotlib.pyplot as plt\n",
    "import warnings\n",
    "warnings.filterwarnings('ignore') \n",
    "\n",
    "read_shar_tack = pd.read_csv(\"shar_tack.csv\", sep=',', encoding='latin-1')\n"
   ]
  },
  {
   "cell_type": "code",
   "execution_count": 321,
   "id": "fb379d6e",
   "metadata": {},
   "outputs": [],
   "source": [
    "useful_columns = ['Date', 'Year', 'Type', 'Country', 'Area', 'Location', 'Activity',\n",
    "                  'Sex', 'Age', 'Fatal (Y/N)', 'Time', 'Species']\n",
    "\n",
    "new_shark_data = read_shar_tack[useful_columns]"
   ]
  },
  {
   "cell_type": "code",
   "execution_count": 340,
   "id": "35d4b195",
   "metadata": {},
   "outputs": [
    {
     "data": {
      "text/html": [
       "<div>\n",
       "<style scoped>\n",
       "    .dataframe tbody tr th:only-of-type {\n",
       "        vertical-align: middle;\n",
       "    }\n",
       "\n",
       "    .dataframe tbody tr th {\n",
       "        vertical-align: top;\n",
       "    }\n",
       "\n",
       "    .dataframe thead th {\n",
       "        text-align: right;\n",
       "    }\n",
       "</style>\n",
       "<table border=\"1\" class=\"dataframe\">\n",
       "  <thead>\n",
       "    <tr style=\"text-align: right;\">\n",
       "      <th></th>\n",
       "      <th>Date</th>\n",
       "      <th>Year</th>\n",
       "      <th>Type</th>\n",
       "      <th>Country</th>\n",
       "      <th>Area</th>\n",
       "      <th>Location</th>\n",
       "      <th>Activity</th>\n",
       "      <th>Sex</th>\n",
       "      <th>Age</th>\n",
       "      <th>Fatal (Y/N)</th>\n",
       "      <th>Time</th>\n",
       "      <th>Species</th>\n",
       "      <th>Count</th>\n",
       "    </tr>\n",
       "  </thead>\n",
       "  <tbody>\n",
       "    <tr>\n",
       "      <th>0</th>\n",
       "      <td>2018-06-25 00:00:00</td>\n",
       "      <td>2018</td>\n",
       "      <td>Boating</td>\n",
       "      <td>USA</td>\n",
       "      <td>California</td>\n",
       "      <td>Oceanside, San Diego County</td>\n",
       "      <td>Paddling</td>\n",
       "      <td>F</td>\n",
       "      <td>57.0</td>\n",
       "      <td>N</td>\n",
       "      <td>18h00</td>\n",
       "      <td>White shark</td>\n",
       "      <td>1</td>\n",
       "    </tr>\n",
       "    <tr>\n",
       "      <th>1</th>\n",
       "      <td>2018-06-18 00:00:00</td>\n",
       "      <td>2018</td>\n",
       "      <td>Unprovoked</td>\n",
       "      <td>USA</td>\n",
       "      <td>Georgia</td>\n",
       "      <td>St. Simon Island, Glynn County</td>\n",
       "      <td>Standing</td>\n",
       "      <td>F</td>\n",
       "      <td>11.0</td>\n",
       "      <td>N</td>\n",
       "      <td>14h00  -15h00</td>\n",
       "      <td>None</td>\n",
       "      <td>1</td>\n",
       "    </tr>\n",
       "    <tr>\n",
       "      <th>2</th>\n",
       "      <td>2018-06-09 00:00:00</td>\n",
       "      <td>2018</td>\n",
       "      <td>Invalid</td>\n",
       "      <td>USA</td>\n",
       "      <td>Hawaii</td>\n",
       "      <td>Habush, Oahu</td>\n",
       "      <td>Surfing</td>\n",
       "      <td>M</td>\n",
       "      <td>48.0</td>\n",
       "      <td>N</td>\n",
       "      <td>07h45</td>\n",
       "      <td>None</td>\n",
       "      <td>1</td>\n",
       "    </tr>\n",
       "    <tr>\n",
       "      <th>3</th>\n",
       "      <td>2018-06-08 00:00:00</td>\n",
       "      <td>2018</td>\n",
       "      <td>Unprovoked</td>\n",
       "      <td>AUSTRALIA</td>\n",
       "      <td>New South Wales</td>\n",
       "      <td>Arrawarra Headland</td>\n",
       "      <td>Surfing</td>\n",
       "      <td>M</td>\n",
       "      <td>None</td>\n",
       "      <td>N</td>\n",
       "      <td>None</td>\n",
       "      <td>2 m shark</td>\n",
       "      <td>1</td>\n",
       "    </tr>\n",
       "    <tr>\n",
       "      <th>4</th>\n",
       "      <td>2018-06-04 00:00:00</td>\n",
       "      <td>2018</td>\n",
       "      <td>Provoked</td>\n",
       "      <td>MEXICO</td>\n",
       "      <td>Colima</td>\n",
       "      <td>La Ticla</td>\n",
       "      <td>Free diving</td>\n",
       "      <td>M</td>\n",
       "      <td>None</td>\n",
       "      <td>N</td>\n",
       "      <td>None</td>\n",
       "      <td>Tiger shark, 3m</td>\n",
       "      <td>1</td>\n",
       "    </tr>\n",
       "    <tr>\n",
       "      <th>...</th>\n",
       "      <td>...</td>\n",
       "      <td>...</td>\n",
       "      <td>...</td>\n",
       "      <td>...</td>\n",
       "      <td>...</td>\n",
       "      <td>...</td>\n",
       "      <td>...</td>\n",
       "      <td>...</td>\n",
       "      <td>...</td>\n",
       "      <td>...</td>\n",
       "      <td>...</td>\n",
       "      <td>...</td>\n",
       "      <td>...</td>\n",
       "    </tr>\n",
       "    <tr>\n",
       "      <th>2803</th>\n",
       "      <td>None</td>\n",
       "      <td>0</td>\n",
       "      <td>Unprovoked</td>\n",
       "      <td>MOZAMBIQUE</td>\n",
       "      <td>Maputo Province</td>\n",
       "      <td>Santa Maria Peninsula</td>\n",
       "      <td>Skindiving</td>\n",
       "      <td>M</td>\n",
       "      <td>36.0</td>\n",
       "      <td>N</td>\n",
       "      <td>None</td>\n",
       "      <td>\"A pack of sharks\"</td>\n",
       "      <td>1</td>\n",
       "    </tr>\n",
       "    <tr>\n",
       "      <th>2804</th>\n",
       "      <td>None</td>\n",
       "      <td>0</td>\n",
       "      <td>Unprovoked</td>\n",
       "      <td>IRAQ</td>\n",
       "      <td>Basrah</td>\n",
       "      <td>Shatt-al-Arab River</td>\n",
       "      <td>Fishing from a small boat &amp; put his hand in th...</td>\n",
       "      <td>M</td>\n",
       "      <td>25.0</td>\n",
       "      <td>N</td>\n",
       "      <td>Afternoon</td>\n",
       "      <td>None</td>\n",
       "      <td>1</td>\n",
       "    </tr>\n",
       "    <tr>\n",
       "      <th>2805</th>\n",
       "      <td>None</td>\n",
       "      <td>0</td>\n",
       "      <td>Unprovoked</td>\n",
       "      <td>IRAQ</td>\n",
       "      <td>Basrah</td>\n",
       "      <td>Shatt-al-Arab River</td>\n",
       "      <td>Swimming naked near a date palm where many dat...</td>\n",
       "      <td>M</td>\n",
       "      <td>6.0</td>\n",
       "      <td>N</td>\n",
       "      <td>Afternoon</td>\n",
       "      <td>Bull shark</td>\n",
       "      <td>1</td>\n",
       "    </tr>\n",
       "    <tr>\n",
       "      <th>2806</th>\n",
       "      <td>None</td>\n",
       "      <td>0</td>\n",
       "      <td>Unprovoked</td>\n",
       "      <td>IRAQ</td>\n",
       "      <td>Basrah</td>\n",
       "      <td>Shatt-al-Arab River near Abu al Khasib</td>\n",
       "      <td>Swimming in section of river used for washing ...</td>\n",
       "      <td>M</td>\n",
       "      <td>16.0</td>\n",
       "      <td>N</td>\n",
       "      <td>Afternoon</td>\n",
       "      <td>Bull shark</td>\n",
       "      <td>1</td>\n",
       "    </tr>\n",
       "    <tr>\n",
       "      <th>2807</th>\n",
       "      <td>None</td>\n",
       "      <td>0</td>\n",
       "      <td>Unprovoked</td>\n",
       "      <td>IRAQ</td>\n",
       "      <td>Basrah</td>\n",
       "      <td>Shatt-el Arab River near a small boat stand</td>\n",
       "      <td>Swimming</td>\n",
       "      <td>M</td>\n",
       "      <td>None</td>\n",
       "      <td>Y</td>\n",
       "      <td>Afternoon</td>\n",
       "      <td>Bull shark</td>\n",
       "      <td>1</td>\n",
       "    </tr>\n",
       "  </tbody>\n",
       "</table>\n",
       "<p>2808 rows × 13 columns</p>\n",
       "</div>"
      ],
      "text/plain": [
       "                     Date  Year        Type     Country             Area  \\\n",
       "0     2018-06-25 00:00:00  2018     Boating         USA       California   \n",
       "1     2018-06-18 00:00:00  2018  Unprovoked         USA          Georgia   \n",
       "2     2018-06-09 00:00:00  2018     Invalid         USA           Hawaii   \n",
       "3     2018-06-08 00:00:00  2018  Unprovoked   AUSTRALIA  New South Wales   \n",
       "4     2018-06-04 00:00:00  2018    Provoked      MEXICO           Colima   \n",
       "...                   ...   ...         ...         ...              ...   \n",
       "2803                 None     0  Unprovoked  MOZAMBIQUE  Maputo Province   \n",
       "2804                 None     0  Unprovoked        IRAQ           Basrah   \n",
       "2805                 None     0  Unprovoked        IRAQ           Basrah   \n",
       "2806                 None     0  Unprovoked        IRAQ           Basrah   \n",
       "2807                 None     0  Unprovoked        IRAQ           Basrah   \n",
       "\n",
       "                                         Location  \\\n",
       "0                     Oceanside, San Diego County   \n",
       "1                  St. Simon Island, Glynn County   \n",
       "2                                    Habush, Oahu   \n",
       "3                              Arrawarra Headland   \n",
       "4                                        La Ticla   \n",
       "...                                           ...   \n",
       "2803                        Santa Maria Peninsula   \n",
       "2804                          Shatt-al-Arab River   \n",
       "2805                         Shatt-al-Arab River    \n",
       "2806       Shatt-al-Arab River near Abu al Khasib   \n",
       "2807  Shatt-el Arab River near a small boat stand   \n",
       "\n",
       "                                               Activity Sex   Age Fatal (Y/N)  \\\n",
       "0                                              Paddling   F  57.0           N   \n",
       "1                                              Standing   F  11.0           N   \n",
       "2                                               Surfing   M  48.0           N   \n",
       "3                                               Surfing   M  None           N   \n",
       "4                                           Free diving   M  None           N   \n",
       "...                                                 ...  ..   ...         ...   \n",
       "2803                                         Skindiving   M  36.0           N   \n",
       "2804  Fishing from a small boat & put his hand in th...   M  25.0           N   \n",
       "2805  Swimming naked near a date palm where many dat...   M   6.0           N   \n",
       "2806  Swimming in section of river used for washing ...   M  16.0           N   \n",
       "2807                                           Swimming   M  None           Y   \n",
       "\n",
       "               Time             Species  Count  \n",
       "0             18h00         White shark      1  \n",
       "1     14h00  -15h00                None      1  \n",
       "2             07h45                None      1  \n",
       "3              None           2 m shark      1  \n",
       "4              None     Tiger shark, 3m      1  \n",
       "...             ...                 ...    ...  \n",
       "2803           None  \"A pack of sharks\"      1  \n",
       "2804      Afternoon                None      1  \n",
       "2805      Afternoon          Bull shark      1  \n",
       "2806      Afternoon          Bull shark      1  \n",
       "2807      Afternoon          Bull shark      1  \n",
       "\n",
       "[2808 rows x 13 columns]"
      ]
     },
     "execution_count": 340,
     "metadata": {},
     "output_type": "execute_result"
    }
   ],
   "source": [
    "new_shark_data"
   ]
  },
  {
   "cell_type": "code",
   "execution_count": 322,
   "id": "c641c6d3",
   "metadata": {},
   "outputs": [],
   "source": [
    "new_shark_data['Count'] = 1"
   ]
  },
  {
   "cell_type": "code",
   "execution_count": 323,
   "id": "832f6536",
   "metadata": {},
   "outputs": [],
   "source": [
    "#Grafico de torta de la cantidad de paises donde hubo ataques"
   ]
  },
  {
   "cell_type": "code",
   "execution_count": 324,
   "id": "a1a4263e",
   "metadata": {},
   "outputs": [],
   "source": [
    "type_attack = new_shark_data[['Type', 'Count']]"
   ]
  },
  {
   "cell_type": "code",
   "execution_count": 325,
   "id": "f8166135",
   "metadata": {},
   "outputs": [],
   "source": [
    "#type_attack['Type'].unique()"
   ]
  },
  {
   "cell_type": "code",
   "execution_count": 326,
   "id": "fe3cb8bb",
   "metadata": {},
   "outputs": [],
   "source": [
    "type_attack_count = type_attack.groupby(['Type']).count()"
   ]
  },
  {
   "cell_type": "code",
   "execution_count": 327,
   "id": "a52b9823",
   "metadata": {},
   "outputs": [],
   "source": [
    "type_attack_count = type_attack_count.sort_values('Count', ascending=False)['Count']"
   ]
  },
  {
   "cell_type": "code",
   "execution_count": 328,
   "id": "9d2b499a",
   "metadata": {},
   "outputs": [
    {
     "data": {
      "text/plain": [
       "Type\n",
       "Unprovoked      2247\n",
       "Provoked         277\n",
       "Invalid          163\n",
       "Boating           65\n",
       "Boat              29\n",
       "Sea Disaster      26\n",
       "Questionable       1\n",
       "Name: Count, dtype: int64"
      ]
     },
     "execution_count": 328,
     "metadata": {},
     "output_type": "execute_result"
    }
   ],
   "source": [
    "type_attack_count"
   ]
  },
  {
   "cell_type": "code",
   "execution_count": 329,
   "id": "57e308ae",
   "metadata": {},
   "outputs": [
    {
     "data": {
      "image/png": "[encoded data removed]",
      "text/plain": [
       "<Figure size 720x216 with 1 Axes>"
      ]
     },
     "metadata": {
      "needs_background": "light"
     },
     "output_type": "display_data"
    }
   ],
   "source": [
    "\n",
    "\n",
    "# dataset\n",
    "count = type_attack_count.values\n",
    "countries = type_attack_count.index\n",
    "positions = range(len(count))\n",
    "positions = [num * 2 for num in positions]\n",
    "\n",
    "# plot bar graph\n",
    "# plt.bar(positions, height, color=(1.0, 0.0, 0.0, 0.2))\n",
    "plt.figure(figsize=(10, 3))\n",
    "plt.bar(\n",
    "\tpositions, \n",
    "\tcount, \n",
    "\tcolor=('deeppink', 'yellow', 'aqua', 'darkviolet','mediumpurple','darkorange','lime','dodgerblue','gold','tomato'),\n",
    "\tedgecolor=('black'))\n",
    "\n",
    "# replace axis label\n",
    "plt.xticks(positions, countries)\n",
    "\n",
    "plt.title('Attacks by type')\n",
    "\n",
    "plt.xlabel('# of Attacks')\n",
    "plt.ylabel('Type')\n",
    "\n",
    "plt.show()"
   ]
  },
  {
   "cell_type": "code",
   "execution_count": 330,
   "id": "190b9ca4",
   "metadata": {},
   "outputs": [],
   "source": [
    "attacks_by_country = new_shark_data.groupby(['Country']).count()"
   ]
  },
  {
   "cell_type": "code",
   "execution_count": 331,
   "id": "58b09793",
   "metadata": {},
   "outputs": [],
   "source": [
    "attacks_by_country = attacks_by_country.sort_values('Count', ascending=False)['Count']"
   ]
  },
  {
   "cell_type": "code",
   "execution_count": 332,
   "id": "c977dae0",
   "metadata": {},
   "outputs": [
    {
     "data": {
      "text/plain": [
       "Index(['USA', 'AUSTRALIA', 'SOUTH AFRICA', 'NEW ZEALAND', 'BRAZIL', 'BAHAMAS',\n",
       "       'REUNION', 'MEXICO', 'PAPUA NEW GUINEA', 'ITALY'],\n",
       "      dtype='object', name='Country')"
      ]
     },
     "execution_count": 332,
     "metadata": {},
     "output_type": "execute_result"
    }
   ],
   "source": [
    "attacks_by_country[:10].index"
   ]
  },
  {
   "cell_type": "code",
   "execution_count": 333,
   "id": "369753fd",
   "metadata": {},
   "outputs": [
    {
     "data": {
      "image/png": "[encoded data removed]",
      "text/plain": [
       "<Figure size 432x288 with 1 Axes>"
      ]
     },
     "metadata": {
      "needs_background": "light"
     },
     "output_type": "display_data"
    }
   ],
   "source": [
    "import matplotlib.pyplot as plt\n",
    "\n",
    "# dataset\n",
    "count = attacks_by_country[:10].values\n",
    "countries = attacks_by_country[:10].index\n",
    "positions = range(len(count))\n",
    "\n",
    "# plot bar graph\n",
    "# plt.bar(positions, height, color=(1.0, 0.0, 0.0, 0.2))\n",
    "plt.barh(\n",
    "\tpositions, \n",
    "\tcount, \n",
    "\tcolor=('deeppink', 'yellow', 'aqua', 'darkviolet','mediumpurple','darkorange','lime','dodgerblue','gold','tomato'),\n",
    "\tedgecolor=('black'))\n",
    "\n",
    "# replace axis label\n",
    "plt.yticks(positions, countries)\n",
    "\n",
    "plt.title('Top 10 countries')\n",
    "\n",
    "plt.xlabel('# of Attacks')\n",
    "plt.ylabel('Country')\n",
    "\n",
    "plt.show()"
   ]
  },
  {
   "cell_type": "code",
   "execution_count": 334,
   "id": "617b4034",
   "metadata": {},
   "outputs": [],
   "source": [
    "maxs = read_shar_tack['Year'].max()"
   ]
  },
  {
   "cell_type": "code",
   "execution_count": 335,
   "id": "9b557fba",
   "metadata": {},
   "outputs": [
    {
     "data": {
      "text/plain": [
       "2018"
      ]
     },
     "execution_count": 335,
     "metadata": {},
     "output_type": "execute_result"
    }
   ],
   "source": [
    "maxs"
   ]
  },
  {
   "cell_type": "code",
   "execution_count": 336,
   "id": "b03449a4",
   "metadata": {},
   "outputs": [],
   "source": [
    "attacks_by_year_df = new_shark_data[new_shark_data['Year'] > 2000]"
   ]
  },
  {
   "cell_type": "code",
   "execution_count": 337,
   "id": "f2f84571",
   "metadata": {},
   "outputs": [],
   "source": [
    "attacks_by_year = attacks_by_year_df.groupby(['Year']).count()"
   ]
  },
  {
   "cell_type": "code",
   "execution_count": 338,
   "id": "27b44fff",
   "metadata": {},
   "outputs": [
    {
     "data": {
      "image/png": "[encoded data removed]",
      "text/plain": [
       "<Figure size 432x288 with 1 Axes>"
      ]
     },
     "metadata": {
      "needs_background": "light"
     },
     "output_type": "display_data"
    }
   ],
   "source": [
    "import matplotlib.pyplot as plt\n",
    "\n",
    "# dataset\n",
    "count = attacks_by_year['Count'].values\n",
    "countries = attacks_by_year['Count'].index\n",
    "positions = range(len(count))\n",
    "\n",
    "# plot bar graph\n",
    "# plt.bar(positions, height, color=(1.0, 0.0, 0.0, 0.2))\n",
    "plt.barh(\n",
    "\tpositions, \n",
    "\tcount, \n",
    "\tcolor=('aquamarine'),\n",
    "\tedgecolor=('black'))\n",
    "\n",
    "# replace axis label\n",
    "plt.yticks(positions, countries)\n",
    "\n",
    "plt.title('Attacks per year after 2000')\n",
    "\n",
    "plt.xlabel('# of Attacks')\n",
    "plt.ylabel('Year')\n",
    "\n",
    "plt.show()"
   ]
  },
  {
   "cell_type": "code",
   "execution_count": null,
   "id": "b7d6b8fd",
   "metadata": {},
   "outputs": [],
   "source": []
  },
  {
   "cell_type": "code",
   "execution_count": null,
   "id": "c31876fe",
   "metadata": {},
   "outputs": [],
   "source": []
  },
  {
   "cell_type": "code",
   "execution_count": null,
   "id": "0ba44659",
   "metadata": {},
   "outputs": [],
   "source": []
  },
  {
   "cell_type": "code",
   "execution_count": null,
   "id": "492fe5f7",
   "metadata": {},
   "outputs": [],
   "source": []
  }
 ],
 "metadata": {
  "kernelspec": {
   "display_name": "Python 3 (ipykernel)",
   "language": "python",
   "name": "python3"
  },
  "language_info": {
   "codemirror_mode": {
    "name": "ipython",
    "version": 3
   },
   "file_extension": ".py",
   "mimetype": "text/x-python",
   "name": "python",
   "nbconvert_exporter": "python",
   "pygments_lexer": "ipython3",
   "version": "3.9.12"
  }
 },
 "nbformat": 4,
 "nbformat_minor": 5
}
